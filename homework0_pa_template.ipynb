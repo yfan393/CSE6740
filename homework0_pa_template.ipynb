{
 "cells": [
  {
   "cell_type": "markdown",
   "metadata": {},
   "source": [
    "## HW0: Introduction to CSE 6740\n",
    "## Programming Assignment Template\n",
    "\n",
    "\n"
   ]
  },
  {
   "cell_type": "markdown",
   "metadata": {},
   "source": [
    "##### Please fill in your name and GTID below"
   ]
  },
  {
   "cell_type": "markdown",
   "metadata": {},
   "source": [
    "##### Name: Yuanting Fan\n",
    "##### GTID: 904047984"
   ]
  },
  {
   "cell_type": "markdown",
   "metadata": {},
   "source": [
    "Section 1:"
   ]
  },
  {
   "cell_type": "code",
   "execution_count": 6,
   "metadata": {},
   "outputs": [
    {
     "name": "stdout",
     "output_type": "stream",
     "text": [
      "1D Array: [0 1 2 3 4 5 6 7 8 9]\n",
      "Reshaped to 2x5 Array:\n",
      " [[0 1 2 3 4]\n",
      " [5 6 7 8 9]]\n"
     ]
    }
   ],
   "source": [
    "# Import necessary libraries\n",
    "import numpy as np\n",
    "import pandas as pd\n",
    "import matplotlib.pyplot as plt\n",
    "\n",
    "# Section 1: Basic Python and Numpy Exercises\n",
    "\n",
    "# Exercise 1: Create a 1D numpy array with values from 0 to 9\n",
    "array_1d = np.arange(10)\n",
    "print(\"1D Array:\", array_1d)\n",
    "\n",
    "# Exercise 2: Reshape the array to 2x5\n",
    "array_2d = array_1d.reshape(2, 5)\n",
    "print(\"Reshaped to 2x5 Array:\\n\", array_2d)"
   ]
  },
  {
   "cell_type": "markdown",
   "metadata": {},
   "source": [
    "Section 2:"
   ]
  },
  {
   "cell_type": "code",
   "execution_count": 7,
   "metadata": {},
   "outputs": [
    {
     "name": "stdout",
     "output_type": "stream",
     "text": [
      "DataFrame:\n",
      "           A         B         C\n",
      "0  0.350754  0.652420  0.864793\n",
      "1  0.005473  0.996719  0.045342\n",
      "2  0.290593  0.776563  0.286791\n",
      "3  0.678686  0.200899  0.560675\n",
      "DataFrame with new column 'D':\n",
      "           A         B         C         D\n",
      "0  0.350754  0.652420  0.864793  1.003174\n",
      "1  0.005473  0.996719  0.045342  1.002192\n",
      "2  0.290593  0.776563  0.286791  1.067157\n",
      "3  0.678686  0.200899  0.560675  0.879585\n"
     ]
    }
   ],
   "source": [
    "# Section 2: Basic DataFrame Operations with Pandas\n",
    "\n",
    "# Exercise 3: Create a simple DataFrame with random numbers\n",
    "df = pd.DataFrame(np.random.rand(4, 3), columns=['A', 'B', 'C'])\n",
    "print(\"DataFrame:\\n\", df)\n",
    "\n",
    "# Exercise 4: Add a new column 'D' which is the sum of 'A' and 'B'\n",
    "df['D'] = df['A'] + df['B']\n",
    "print(\"DataFrame with new column 'D':\\n\", df)"
   ]
  },
  {
   "cell_type": "markdown",
   "metadata": {},
   "source": [
    "Section 3"
   ]
  },
  {
   "cell_type": "code",
   "execution_count": 8,
   "metadata": {},
   "outputs": [
    {
     "data": {
      "image/png": "[encoded data removed]",
      "text/plain": [
       "<Figure size 640x480 with 1 Axes>"
      ]
     },
     "metadata": {},
     "output_type": "display_data"
    }
   ],
   "source": [
    "# Section 3: Visualization with Matplotlib\n",
    "\n",
    "# Exercise 5: Plot the DataFrame\n",
    "df.plot(kind='bar')\n",
    "plt.title('Bar Plot of DataFrame')\n",
    "plt.xlabel('Index')\n",
    "plt.ylabel('Values')\n",
    "plt.show()"
   ]
  },
  {
   "cell_type": "code",
   "execution_count": null,
   "metadata": {},
   "outputs": [],
   "source": []
  }
 ],
 "metadata": {
  "kernelspec": {
   "display_name": "Python 3 (ipykernel)",
   "language": "python",
   "name": "python3"
  },
  "language_info": {
   "codemirror_mode": {
    "name": "ipython",
    "version": 3
   },
   "file_extension": ".py",
   "mimetype": "text/x-python",
   "name": "python",
   "nbconvert_exporter": "python",
   "pygments_lexer": "ipython3",
   "version": "3.12.5"
  }
 },
 "nbformat": 4,
 "nbformat_minor": 4
}
