{
  "cells": [
    {
      "cell_type": "markdown",
      "metadata": {
        "id": "view-in-github",
        "colab_type": "text"
      },
      "source": [
        "<a href=\"https://colab.research.google.com/github/yfan393/CSE6740/blob/main/cse6040_fa24_09_24_lcs_DRAFT.ipynb\" target=\"_parent\"><img src=\"https://colab.research.google.com/assets/colab-badge.svg\" alt=\"Open In Colab\"/></a>"
      ]
    },
    {
      "cell_type": "markdown",
      "metadata": {
        "id": "IoH1t2cmcB6d"
      },
      "source": [
        "# Problem-solving techniques: slicing, data parallelism, preconditioning, and the \"longest consecutive subsequences\" problem #\n",
        "\n",
        "## Link: `bit.ly/4eDM9t7`\n",
        "\n",
        "_(September 24, 2024)_\n",
        "\n",
        "* Review: Properties of slices\n",
        "* Pro-tip: Pretty-printing nested data structures\n",
        "* Review: Basics of problem solving — outputs, inputs, and strategy\n",
        "* New topic: \"Data parallelism\" — elevating your view of problems\n",
        "* Example: Longest consecutive subsequences (from Codewars)"
      ]
    },
    {
      "cell_type": "markdown",
      "metadata": {
        "id": "GI5d88bTcB6e"
      },
      "source": [
        "# Review: Facts about slicing #\n",
        "\n",
        "Take a moment to review how slicing works. We'll use slices in a subsequent example."
      ]
    },
    {
      "cell_type": "markdown",
      "metadata": {
        "id": "f_Cht4kdcB6e"
      },
      "source": [
        "Here is one example: suppose you have the list `L` below and you want to extract the last three elements. Come up with **two slice-based methods** to do it."
      ]
    },
    {
      "cell_type": "code",
      "execution_count": null,
      "metadata": {
        "ExecuteTime": {
          "end_time": "2023-09-21T17:37:27.473616Z",
          "start_time": "2023-09-21T17:37:27.470218Z"
        },
        "id": "-QjJNS7ScB6e"
      },
      "outputs": [],
      "source": [
        "#.   0. 1. 2. 3. 4\n",
        "L = [\"a\", \"b\", \"c\", \"d\", \"e\"]\n",
        "\n",
        "### YOUR CODE HERE ###"
      ]
    },
    {
      "cell_type": "markdown",
      "metadata": {
        "id": "DFRKlWBRcB6f"
      },
      "source": [
        "When you reference a list using an invalid index, you get an error. Uncomment the following line to see an example:"
      ]
    },
    {
      "cell_type": "code",
      "execution_count": null,
      "metadata": {
        "ExecuteTime": {
          "end_time": "2023-09-21T17:37:27.479833Z",
          "start_time": "2023-09-21T17:37:27.478117Z"
        },
        "id": "Po7JL1KlcB6f"
      },
      "outputs": [],
      "source": [
        "#L[len(L)] # Fails: Why?"
      ]
    },
    {
      "cell_type": "markdown",
      "metadata": {
        "id": "Vjnh1jbZcB6f"
      },
      "source": [
        "Slices work a little differently. Consider the following slice of a list:"
      ]
    },
    {
      "cell_type": "code",
      "execution_count": null,
      "metadata": {
        "ExecuteTime": {
          "end_time": "2023-09-21T17:37:27.484893Z",
          "start_time": "2023-09-21T17:37:27.482598Z"
        },
        "id": "zLTFW3-EcB6f"
      },
      "outputs": [],
      "source": [
        "### INSERT: SLICE FROM `len(L)` ###\n",
        "L[len(L):]"
      ]
    },
    {
      "cell_type": "markdown",
      "metadata": {
        "id": "Xvc1xYR_cB6g"
      },
      "source": [
        "Instead of failing, `L[len(L):]` returns an empty list!\n",
        "\n",
        "You can think of it this way. First, Python interprets the slice; a range with invalid indices yields an empty range. Referencing the list on an empty range returns an empty list.\n",
        "\n",
        "Why is this default behavior helpful? You can use it to construct more \"robust\" algorithms by not having to worry about corner cases, e.g., an empty subset or out-of-bounds ranges."
      ]
    },
    {
      "cell_type": "markdown",
      "metadata": {
        "id": "8osrAuavcB6h"
      },
      "source": [
        "Here is another example:"
      ]
    },
    {
      "cell_type": "code",
      "execution_count": null,
      "metadata": {
        "ExecuteTime": {
          "end_time": "2023-09-21T17:37:27.488164Z",
          "start_time": "2023-09-21T17:37:27.485835Z"
        },
        "id": "Z_Vm3lLScB6h"
      },
      "outputs": [],
      "source": [
        "L[-6:1_000_000_000]"
      ]
    },
    {
      "cell_type": "markdown",
      "metadata": {
        "id": "jcyoXO4fcB6h"
      },
      "source": [
        "# Pro-tip: Pretty-printing nested data structures #\n",
        "\n",
        "When debugging, consider [`pprint.pprint()`](https://docs.python.org/3/library/pprint.html) to \"pretty print\" a native-Python nested data structure."
      ]
    },
    {
      "cell_type": "markdown",
      "metadata": {
        "id": "EPbxF3NjcB6h"
      },
      "source": [
        "**Example:** Consider the following \"list of dictionaries.\""
      ]
    },
    {
      "cell_type": "code",
      "execution_count": null,
      "metadata": {
        "ExecuteTime": {
          "end_time": "2023-09-21T17:37:27.443677Z",
          "start_time": "2023-09-21T17:37:27.427777Z"
        },
        "id": "0dw7aPuucB6i"
      },
      "outputs": [],
      "source": [
        "data = [{'first': 'Guido', 'last': 'Van Rossum', 'year': 1956},\n",
        "        {'first': 'Grace', 'last': 'Hopper',     'year': 1906},\n",
        "        {'first': 'Alan',  'last': 'Turing',     'year': 1912}]\n",
        "print(data)"
      ]
    },
    {
      "cell_type": "code",
      "execution_count": null,
      "metadata": {
        "ExecuteTime": {
          "end_time": "2023-09-21T17:37:27.449823Z",
          "start_time": "2023-09-21T17:37:27.446484Z"
        },
        "id": "9F74UTlfcB6i"
      },
      "outputs": [],
      "source": [
        "from pprint import pprint\n",
        "pprint(data)"
      ]
    },
    {
      "cell_type": "markdown",
      "metadata": {
        "id": "K1hUifcNcB6i"
      },
      "source": [
        "# Exercise: Longest consecutive subsequences and \"data parallelism\" #\n",
        "\n",
        "Given a string of characters, write some code to find longest consecutive substring of repeated characters. It should then return the character and the number of times it occurred in that longest substring. If there are multiple substrings of repeated characters having the same length, then the function should return the first one that occurs."
      ]
    },
    {
      "cell_type": "code",
      "execution_count": null,
      "metadata": {
        "ExecuteTime": {
          "end_time": "2023-09-21T17:37:27.492039Z",
          "start_time": "2023-09-21T17:37:27.489287Z"
        },
        "id": "6F_qopUUcB6i"
      },
      "outputs": [],
      "source": [
        "# Examples:\n",
        "tests = {\n",
        "    'aaaabb': ('a', 4),\n",
        "    'bbbaaabaaaa': ('a', 4),\n",
        "    'bbbaaaabaaa': ('a', 4),\n",
        "    'bbbaabbaaa': ('b', 3), # tie: return first\n",
        "    'cbdeuuu900': ('u', 3),\n",
        "    'abbbbb': ('b', 5),\n",
        "    'aabb': ('a', 2),\n",
        "    'ba': ('b', 1),\n",
        "    '': ('', 0)\n",
        "}"
      ]
    },
    {
      "cell_type": "markdown",
      "metadata": {
        "id": "w9blpmezcB6j"
      },
      "source": [
        "Below, we'll implement a few variants. To check them, we'll use the following function.\n",
        "\n",
        "> It's a _higher-order function!_ It takes an implementation of LCS as input and checks it against the test cases shown above."
      ]
    },
    {
      "cell_type": "code",
      "execution_count": null,
      "metadata": {
        "ExecuteTime": {
          "end_time": "2023-09-21T17:37:27.495848Z",
          "start_time": "2023-09-21T17:37:27.493182Z"
        },
        "id": "CQjx4NPIcB6j"
      },
      "outputs": [],
      "source": [
        "def check(implementation):\n",
        "    for input_string, true_answer in tests.items():\n",
        "        print(f'* Checking {repr(input_string)}: True solution is {repr(true_answer)}...')\n",
        "        your_answer = implementation(input_string)\n",
        "        assert your_answer == true_answer, f'Your code produced {repr(your_answer)} instead.'\n",
        "    print(\"\\n(Passed!)\")"
      ]
    },
    {
      "cell_type": "markdown",
      "metadata": {
        "id": "b1HNU2ukcB6j"
      },
      "source": [
        "**Exercise.** Implement a program to solve the LCS problem. As a suggestion, start by identifying the **goal** (outputs) and the **inputs**, and then outline a **strategy** (sequence of steps _without_ code) before writing the code."
      ]
    },
    {
      "cell_type": "code",
      "execution_count": null,
      "metadata": {
        "ExecuteTime": {
          "end_time": "2023-09-21T17:37:27.498396Z",
          "start_time": "2023-09-21T17:37:27.496637Z"
        },
        "id": "aXToHYqYcB6j"
      },
      "outputs": [],
      "source": [
        "def longest_consecutive_subsequence(s):\n",
        "    # Input: string `s`\n",
        "    #\n",
        "    # Output: ('x', m)\n",
        "    pass"
      ]
    },
    {
      "cell_type": "markdown",
      "metadata": {
        "id": "D7JQE3hGcB6j"
      },
      "source": [
        "### Baseline method: One-at-a-time ###\n",
        "\n",
        "Here is a version you might naturally implement. It works as follows.\n",
        "\n",
        "1. Let `best` and `best_count` hold the letter with the largest count seen so far.\n",
        "2. Visit each character `c` of the input string `s` from left to right.\n",
        "3. Determine whether `c` is the same as the previous letter, `previous`, which has occurred `previous_count` times.\n",
        "4. If `c` is the same as `previous`, increment `previous_count`.\n",
        "5. Otherwise, see if we can update `best` with `previous`."
      ]
    },
    {
      "cell_type": "code",
      "execution_count": null,
      "metadata": {
        "ExecuteTime": {
          "end_time": "2023-09-21T17:37:27.501624Z",
          "start_time": "2023-09-21T17:37:27.499353Z"
        },
        "id": "0kcoV-5CcB6k"
      },
      "outputs": [],
      "source": [
        "def longest_consecutive_subsequence_0a(s):\n",
        "    best, best_count = '', 0 # `best` is a single letter, `best_count` is freq in subseq\n",
        "    previous, previous_count = '', 0 # `previous` will hold a single letter, `previous_count` ...\n",
        "    for c in s:\n",
        "        if c == previous:\n",
        "            previous_count += 1\n",
        "        else: # c != previous\n",
        "            if previous_count > best_count:\n",
        "                best, best_count = previous, previous_count\n",
        "            previous, previous_count = c, 1\n",
        "    if previous_count > best_count:\n",
        "        best, best_count = previous, previous_count\n",
        "    return best, best_count"
      ]
    },
    {
      "cell_type": "markdown",
      "metadata": {
        "id": "SidWos9OcB6k"
      },
      "source": [
        "First, let's check this solution:"
      ]
    },
    {
      "cell_type": "code",
      "execution_count": null,
      "metadata": {
        "ExecuteTime": {
          "end_time": "2023-09-21T17:37:27.504151Z",
          "start_time": "2023-09-21T17:37:27.502476Z"
        },
        "id": "WA7GHTercB6k"
      },
      "outputs": [],
      "source": [
        "check(longest_consecutive_subsequence_0a)"
      ]
    },
    {
      "cell_type": "markdown",
      "metadata": {
        "id": "bOuOqYUucB6k"
      },
      "source": [
        "The solution shown above has some repetition: the code to update `best` and `best_count` when a new and longer subsequence is discovered appears in two places (lines 8-9 and again in lines 11-12). We'll address that momentarily."
      ]
    },
    {
      "cell_type": "markdown",
      "metadata": {
        "id": "haUIA1NMcB6k"
      },
      "source": [
        "Here is a variation on the above with a few revisions for clarity:\n",
        "\n",
        "1. _Refactor_ the redundant code into a separate function, `update`. Doing so improves reading, debugging, and maintaining the function. (If you wanted to solve the _shortest_ consecutive subsequence problem instead, you need only change `update`!)\n",
        "2. Maintain substrings and use `len` to get the length when needed.\n",
        "3. Use slices to handle empty strings more robustly."
      ]
    },
    {
      "cell_type": "code",
      "execution_count": null,
      "metadata": {
        "ExecuteTime": {
          "end_time": "2023-09-21T17:37:27.507566Z",
          "start_time": "2023-09-21T17:37:27.504873Z"
        },
        "id": "TYjaEhQhcB6l"
      },
      "outputs": [],
      "source": [
        "def longest_consecutive_subsequence_0b(s):\n",
        "    def update(best, previous):\n",
        "        return max(best, previous, key=len) # ???\n",
        "\n",
        "    previous = ''\n",
        "    best = ''\n",
        "    for c in s:\n",
        "        if c not in previous:\n",
        "            best = update(best, previous)\n",
        "            previous = ''\n",
        "        previous += c\n",
        "    best = update(best, previous)\n",
        "    return best[-1:], len(best)\n",
        "\n",
        "check(longest_consecutive_subsequence_0b)"
      ]
    },
    {
      "cell_type": "markdown",
      "metadata": {
        "id": "MjN_3n2xcB6l"
      },
      "source": [
        "### Method 1: Data parallelism ###\n",
        "\n",
        "Instead of thinking about building the solution one character at a time, let's try to think about the input \"as a whole.\" What are you really looking for?\n",
        "\n",
        "In the case of this problem, the input string is really a collection of substrings having the same letter. You can think of finding the solution in two parts: (1) finding the substrings, and then (2) finding the largest one."
      ]
    },
    {
      "cell_type": "markdown",
      "metadata": {
        "id": "FXRdhWXEcB6l"
      },
      "source": [
        "For example, consider the input string again:"
      ]
    },
    {
      "cell_type": "code",
      "execution_count": null,
      "metadata": {
        "ExecuteTime": {
          "end_time": "2023-09-21T17:37:27.510215Z",
          "start_time": "2023-09-21T17:37:27.508479Z"
        },
        "id": "9jGvfgAscB6l"
      },
      "outputs": [],
      "source": [
        "s = 'bbbaaabaaaa'"
      ]
    },
    {
      "cell_type": "markdown",
      "metadata": {
        "id": "Q5yY0ZaIcB6l"
      },
      "source": [
        "The pieces correspond to these slices of `s`:"
      ]
    },
    {
      "cell_type": "code",
      "execution_count": null,
      "metadata": {
        "ExecuteTime": {
          "end_time": "2023-09-21T17:37:27.513555Z",
          "start_time": "2023-09-21T17:37:27.510974Z"
        },
        "id": "dN94P1kBcB6l"
      },
      "outputs": [],
      "source": [
        "s[0:3], s[3:6], s[6:7], s[7:11]"
      ]
    },
    {
      "cell_type": "markdown",
      "metadata": {
        "id": "2Ml61yADcB6m"
      },
      "source": [
        "To reconstruct these substrings, all you need are the locations of _changes_, which occur at positions `[0, 3, 6, 7, 11]`."
      ]
    },
    {
      "cell_type": "markdown",
      "metadata": {
        "id": "uNxmGpKGcB6m"
      },
      "source": [
        "To find these, we need to look at consecutive pairs of letters in `s` and see where they differ. Let's write some code to build up this information in two parts."
      ]
    },
    {
      "cell_type": "code",
      "execution_count": null,
      "metadata": {
        "ExecuteTime": {
          "end_time": "2023-09-21T17:37:27.520384Z",
          "start_time": "2023-09-21T17:37:27.517790Z"
        },
        "id": "GAaeghLRcB6n"
      },
      "outputs": [],
      "source": [
        "### DEMO ###"
      ]
    },
    {
      "cell_type": "code",
      "execution_count": null,
      "metadata": {
        "ExecuteTime": {
          "end_time": "2023-09-21T17:37:27.524221Z",
          "start_time": "2023-09-21T17:37:27.521159Z"
        },
        "id": "l96CPRdLcB6n"
      },
      "outputs": [],
      "source": [
        "def zip_neighbors(s):\n",
        "    ### YOUR CODE HERE ###\n",
        "    pass\n",
        "\n",
        "print(\"s =\", s)\n",
        "list(zip_neighbors(s))"
      ]
    },
    {
      "cell_type": "markdown",
      "metadata": {
        "id": "-Z_g9Q7ycB6n"
      },
      "source": [
        "To associate these neighbor-pairs with positions, apply `enumerate`:"
      ]
    },
    {
      "cell_type": "code",
      "execution_count": null,
      "metadata": {
        "ExecuteTime": {
          "end_time": "2023-09-21T17:37:27.528535Z",
          "start_time": "2023-09-21T17:37:27.525250Z"
        },
        "id": "ejNEBq2tcB6n"
      },
      "outputs": [],
      "source": [
        "print(\"s =\", s)\n",
        "\n",
        "### INSERT: APPLY ENUMERATE ###"
      ]
    },
    {
      "cell_type": "markdown",
      "metadata": {
        "id": "cmcL8DOVcB6n"
      },
      "source": [
        "These are the building blocks for a \"change detector:\""
      ]
    },
    {
      "cell_type": "code",
      "execution_count": null,
      "metadata": {
        "ExecuteTime": {
          "end_time": "2023-09-21T17:37:27.534075Z",
          "start_time": "2023-09-21T17:37:27.529372Z"
        },
        "id": "GRcz-sjocB6n"
      },
      "outputs": [],
      "source": [
        "def detect_changes(s):\n",
        "    ### INSERT SOLUTION ###\n",
        "    pass\n",
        "\n",
        "detect_changes(s)"
      ]
    },
    {
      "cell_type": "markdown",
      "metadata": {
        "id": "QDgZXcXecB6n"
      },
      "source": [
        "> _Aside:_ The implementation of `detect_changes` produces the following result on an empty input:"
      ]
    },
    {
      "cell_type": "code",
      "execution_count": null,
      "metadata": {
        "ExecuteTime": {
          "end_time": "2023-09-21T17:37:27.537227Z",
          "start_time": "2023-09-21T17:37:27.535036Z"
        },
        "id": "RLcX4_FkcB6n"
      },
      "outputs": [],
      "source": [
        "detect_changes('')"
      ]
    },
    {
      "cell_type": "markdown",
      "metadata": {
        "id": "RlAt71L1cB6o"
      },
      "source": [
        "From the changes, the pieces follow:"
      ]
    },
    {
      "cell_type": "code",
      "execution_count": null,
      "metadata": {
        "ExecuteTime": {
          "end_time": "2023-09-21T17:37:27.540825Z",
          "start_time": "2023-09-21T17:37:27.538015Z"
        },
        "id": "o-5yFgQLcB6o"
      },
      "outputs": [],
      "source": [
        "def get_pieces(s, changes):\n",
        "    ### INSERT SOLUTION ###\n",
        "    pass\n",
        "\n",
        "get_pieces(s, detect_changes(s))"
      ]
    },
    {
      "cell_type": "markdown",
      "metadata": {
        "id": "PGOSBwaTcB6o"
      },
      "source": [
        "The largest piece is then easy to find:"
      ]
    },
    {
      "cell_type": "code",
      "execution_count": null,
      "metadata": {
        "ExecuteTime": {
          "end_time": "2023-09-21T17:37:27.543905Z",
          "start_time": "2023-09-21T17:37:27.541685Z"
        },
        "id": "VTEsDERScB6o"
      },
      "outputs": [],
      "source": [
        "### FIND LARGEST PIECE VIA KEYED `max` ###"
      ]
    },
    {
      "cell_type": "markdown",
      "metadata": {
        "id": "6KEMH8sTcB6o"
      },
      "source": [
        "Putting it all together:"
      ]
    },
    {
      "cell_type": "code",
      "execution_count": null,
      "metadata": {
        "ExecuteTime": {
          "end_time": "2023-09-21T17:37:27.551247Z",
          "start_time": "2023-09-21T17:37:27.548094Z"
        },
        "id": "mxw5eaZJcB6o"
      },
      "outputs": [],
      "source": [
        "def longest_consecutive_subsequence_1(s):\n",
        "    changes = detect_changes(s)\n",
        "    pieces = get_pieces(s, changes)\n",
        "    largest_piece = max(pieces, key=len)\n",
        "    return largest_piece[:1], len(largest_piece)\n",
        "\n",
        "longest_consecutive_subsequence_1(s)"
      ]
    },
    {
      "cell_type": "code",
      "execution_count": null,
      "metadata": {
        "ExecuteTime": {
          "end_time": "2023-09-21T17:37:27.554268Z",
          "start_time": "2023-09-21T17:37:27.552371Z"
        },
        "id": "duAOye12cB6p"
      },
      "outputs": [],
      "source": [
        "check(longest_consecutive_subsequence_1)"
      ]
    },
    {
      "cell_type": "markdown",
      "metadata": {
        "id": "aVh1wq4EcB6p"
      },
      "source": [
        "### Method 2: Data parallel \"preconditioning\" approach ###\n",
        "\n",
        "Transform the input into something, e.g., preprocess or \"precondition\" it so that the problem becomes easier to solve."
      ]
    },
    {
      "cell_type": "code",
      "execution_count": null,
      "metadata": {
        "ExecuteTime": {
          "end_time": "2023-09-21T17:37:27.557278Z",
          "start_time": "2023-09-21T17:37:27.555020Z"
        },
        "id": "f6YLejkOcB6p"
      },
      "outputs": [],
      "source": [
        "s = 'bbbaaabaaaa'\n",
        "\n",
        "### INSERT: DEMO `s` and `t` ###"
      ]
    },
    {
      "cell_type": "code",
      "execution_count": null,
      "metadata": {
        "ExecuteTime": {
          "end_time": "2023-09-21T17:37:27.561193Z",
          "start_time": "2023-09-21T17:37:27.558126Z"
        },
        "id": "UiKuXc2ZcB6p"
      },
      "outputs": [],
      "source": [
        "def insert_cuts(s, separator='|'):\n",
        "    assert separator not in s     # Q for you: \"but y tho\"\n",
        "    ### YOUR CODE HERE ###\n",
        "    pass\n",
        "\n",
        "def longest_consecutive_subsequence_3(s):\n",
        "    t = insert_cuts(s)\n",
        "    substrings = t.split('|')\n",
        "    largest_substring = max(substrings, key=len)\n",
        "    return largest_substring[-1:], len(largest_substring)\n",
        "\n",
        "check(longest_consecutive_subsequence_3)"
      ]
    },
    {
      "cell_type": "markdown",
      "metadata": {
        "id": "eLRfbIBLcB6p"
      },
      "source": [
        "## Summary ##\n",
        "\n",
        "Here is a quick review of the main ideas in this note:\n",
        "\n",
        "- **Slices** are well-worth mastering. Empty ranges produced empty lists, which we exploited to write more robust code for corner cases.\n",
        "- **Functions** encapsulate ... functionality!\n",
        "- **Data parallelism** is an \"all-at-once\" mindset, which can be more efficient, easier to read, and easier to parallelize.\n",
        "- **Preconditioning** is a strategy whereby one transforms an input (or any intermediate object) into another object that simplifies how the next step can be solved."
      ]
    }
  ],
  "metadata": {
    "celltoolbar": "Slideshow",
    "kernelspec": {
      "display_name": "Python 3 (ipykernel)",
      "language": "python",
      "name": "python3"
    },
    "language_info": {
      "codemirror_mode": {
        "name": "ipython",
        "version": 3
      },
      "file_extension": ".py",
      "mimetype": "text/x-python",
      "name": "python",
      "nbconvert_exporter": "python",
      "pygments_lexer": "ipython3",
      "version": "3.11.7"
    },
    "toc": {
      "base_numbering": 1,
      "nav_menu": {},
      "number_sections": true,
      "sideBar": true,
      "skip_h1_title": false,
      "title_cell": "Table of Contents",
      "title_sidebar": "Contents",
      "toc_cell": false,
      "toc_position": {},
      "toc_section_display": true,
      "toc_window_display": false
    },
    "colab": {
      "provenance": [],
      "include_colab_link": true
    }
  },
  "nbformat": 4,
  "nbformat_minor": 0
}